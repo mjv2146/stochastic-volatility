{
 "cells": [
  {
   "cell_type": "markdown",
   "metadata": {},
   "source": [
    "- this notebook recovers parameters for the beta distribution to generate a mean of 0.9 and standard deviation of 0.1"
   ]
  },
  {
   "cell_type": "code",
   "execution_count": 5,
   "metadata": {},
   "outputs": [],
   "source": [
    "import sympy as sm"
   ]
  },
  {
   "cell_type": "code",
   "execution_count": 6,
   "metadata": {},
   "outputs": [
    {
     "name": "stdout",
     "output_type": "stream",
     "text": [
      "[(7.20000000000000, 0.800000000000000)]\n"
     ]
    }
   ],
   "source": [
    "alpha, beta = sm.symbols('alpha, beta')\n",
    "eq1 = sm.Eq(alpha/(alpha+beta), 0.9)\n",
    "eq2 = sm.Eq(alpha*beta / ((alpha+beta)**2 * (alpha + beta + 1)), 0.1**2)\n",
    "result = sm.solve([eq1, eq2], (alpha, beta))\n",
    "print(result)"
   ]
  },
  {
   "cell_type": "code",
   "execution_count": null,
   "metadata": {},
   "outputs": [],
   "source": []
  }
 ],
 "metadata": {
  "kernelspec": {
   "display_name": "main",
   "language": "python",
   "name": "python3"
  },
  "language_info": {
   "codemirror_mode": {
    "name": "ipython",
    "version": 3
   },
   "file_extension": ".py",
   "mimetype": "text/x-python",
   "name": "python",
   "nbconvert_exporter": "python",
   "pygments_lexer": "ipython3",
   "version": "3.9.6"
  }
 },
 "nbformat": 4,
 "nbformat_minor": 2
}
